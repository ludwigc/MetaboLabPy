{
 "cells": [
  {
   "cell_type": "code",
   "execution_count": 1,
   "id": "f25e95eb",
   "metadata": {},
   "outputs": [],
   "source": [
    "import pandas as pd\n",
    "from metabolabpy.nmr import nmrDataSet"
   ]
  },
  {
   "cell_type": "code",
   "execution_count": 12,
   "id": "fb041431",
   "metadata": {},
   "outputs": [],
   "source": [
    "df = pd.read_excel('/Users/ludwigc/Documents/testExportNew2.xlsx', sheet_name=None, keep_default_na=False)"
   ]
  },
  {
   "cell_type": "code",
   "execution_count": 18,
   "id": "19efcb29",
   "metadata": {},
   "outputs": [
    {
     "data": {
      "text/plain": [
       "Index(['Dataset.0', 'Experiment.0', 'Multiplet.0', 'Percentages.0',\n",
       "       'Intensity.0', 'HSQC.0', 'Dataset.1', 'Experiment.1', 'Multiplet.1',\n",
       "       'Percentages.1', 'Intensity.1', 'HSQC.1', 'Dataset.2', 'Experiment.2',\n",
       "       'Multiplet.2', 'Percentages.2', 'Intensity.2', 'HSQC.2'],\n",
       "      dtype='object')"
      ]
     },
     "execution_count": 18,
     "metadata": {},
     "output_type": "execute_result"
    }
   ],
   "source": [
    "df['L-LacticAcid'].keys()"
   ]
  },
  {
   "cell_type": "code",
   "execution_count": null,
   "id": "49ae9e95",
   "metadata": {},
   "outputs": [],
   "source": []
  }
 ],
 "metadata": {
  "kernelspec": {
   "display_name": "Python 3 (ipykernel)",
   "language": "python",
   "name": "python3"
  },
  "language_info": {
   "codemirror_mode": {
    "name": "ipython",
    "version": 3
   },
   "file_extension": ".py",
   "mimetype": "text/x-python",
   "name": "python",
   "nbconvert_exporter": "python",
   "pygments_lexer": "ipython3",
   "version": "3.9.7"
  }
 },
 "nbformat": 4,
 "nbformat_minor": 5
}
